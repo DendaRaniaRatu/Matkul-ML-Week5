{
  "nbformat": 4,
  "nbformat_minor": 0,
  "metadata": {
    "colab": {
      "name": "8_SVD.ipynb",
      "provenance": [],
      "authorship_tag": "ABX9TyPxz2UNNJfinjzCpBsuWoxj",
      "include_colab_link": true
    },
    "kernelspec": {
      "name": "python3",
      "display_name": "Python 3"
    },
    "language_info": {
      "name": "python"
    }
  },
  "cells": [
    {
      "cell_type": "markdown",
      "metadata": {
        "id": "view-in-github",
        "colab_type": "text"
      },
      "source": [
        "<a href=\"https://colab.research.google.com/github/DendaRaniaRatu/Matkul-ML-Week5/blob/main/8_SVD.ipynb\" target=\"_parent\"><img src=\"https://colab.research.google.com/assets/colab-badge.svg\" alt=\"Open In Colab\"/></a>"
      ]
    },
    {
      "cell_type": "code",
      "metadata": {
        "id": "ED6hTed8Rmks"
      },
      "source": [
        "#import linier algebra, eigen value, eigen vector, normalized the vectors\n",
        "import numpy as np\n",
        "from numpy.linalg import eigh, norm"
      ],
      "execution_count": 1,
      "outputs": []
    },
    {
      "cell_type": "code",
      "metadata": {
        "id": "NGQ2KMFRRr6o"
      },
      "source": [
        "#matriks ukuran mxn\n",
        "A=np.array([[-5, 2, 3], [2, 5, 1], [-3, 1, -5]])"
      ],
      "execution_count": 2,
      "outputs": []
    },
    {
      "cell_type": "code",
      "metadata": {
        "colab": {
          "base_uri": "https://localhost:8080/"
        },
        "id": "BIxg4C5vRr-P",
        "outputId": "84b05f82-6013-4f58-a438-64afbe1f5ae5"
      },
      "source": [
        "A.T@A"
      ],
      "execution_count": 3,
      "outputs": [
        {
          "output_type": "execute_result",
          "data": {
            "text/plain": [
              "array([[38, -3,  2],\n",
              "       [-3, 30,  6],\n",
              "       [ 2,  6, 35]])"
            ]
          },
          "metadata": {},
          "execution_count": 3
        }
      ]
    },
    {
      "cell_type": "code",
      "metadata": {
        "colab": {
          "base_uri": "https://localhost:8080/"
        },
        "id": "iy8sCnumRsBv",
        "outputId": "7f66bc0b-387e-48e8-9682-17f11a899079"
      },
      "source": [
        "#eigen values & V\n",
        "eigh(A.T@A)"
      ],
      "execution_count": 4,
      "outputs": [
        {
          "output_type": "execute_result",
          "data": {
            "text/plain": [
              "(array([25., 39., 39.]), array([[ 0.26726124, -0.96362411,  0.        ],\n",
              "        [ 0.80178373,  0.22237479,  0.5547002 ],\n",
              "        [-0.53452248, -0.14824986,  0.83205029]]))"
            ]
          },
          "metadata": {},
          "execution_count": 4
        }
      ]
    },
    {
      "cell_type": "code",
      "metadata": {
        "id": "1PNx6LehRsFF"
      },
      "source": [
        "ev, V =eigh(A.T@A)"
      ],
      "execution_count": 5,
      "outputs": []
    },
    {
      "cell_type": "code",
      "metadata": {
        "colab": {
          "base_uri": "https://localhost:8080/"
        },
        "id": "Kw4fWNYCRsL6",
        "outputId": "8097c87c-0dec-41de-ac20-298763d6a295"
      },
      "source": [
        "V"
      ],
      "execution_count": 6,
      "outputs": [
        {
          "output_type": "execute_result",
          "data": {
            "text/plain": [
              "array([[ 0.26726124, -0.96362411,  0.        ],\n",
              "       [ 0.80178373,  0.22237479,  0.5547002 ],\n",
              "       [-0.53452248, -0.14824986,  0.83205029]])"
            ]
          },
          "metadata": {},
          "execution_count": 6
        }
      ]
    },
    {
      "cell_type": "code",
      "metadata": {
        "colab": {
          "base_uri": "https://localhost:8080/"
        },
        "id": "_FennXcUR6yV",
        "outputId": "d45dfee3-ad84-443a-c949-8946dbe2d6f5"
      },
      "source": [
        "V[0]"
      ],
      "execution_count": 7,
      "outputs": [
        {
          "output_type": "execute_result",
          "data": {
            "text/plain": [
              "array([ 0.26726124, -0.96362411,  0.        ])"
            ]
          },
          "metadata": {},
          "execution_count": 7
        }
      ]
    },
    {
      "cell_type": "code",
      "metadata": {
        "colab": {
          "base_uri": "https://localhost:8080/"
        },
        "id": "zYxPbG61R61W",
        "outputId": "826402e7-1291-4e54-94dd-f1a0247f6c0d"
      },
      "source": [
        "V[:,0]"
      ],
      "execution_count": 8,
      "outputs": [
        {
          "output_type": "execute_result",
          "data": {
            "text/plain": [
              "array([ 0.26726124,  0.80178373, -0.53452248])"
            ]
          },
          "metadata": {},
          "execution_count": 8
        }
      ]
    },
    {
      "cell_type": "code",
      "metadata": {
        "id": "iw4tGk0cR64i"
      },
      "source": [
        "u0= A@V[:,0]/norm(A@V[:,0])\n",
        "u1= A@V[:,1]/norm(A@V[:,1])\n",
        "u2= A@V[:,2]/norm(A@V[:,2])"
      ],
      "execution_count": 9,
      "outputs": []
    },
    {
      "cell_type": "code",
      "metadata": {
        "id": "VYBv9lgDR677"
      },
      "source": [
        "U=np.array([u0,u1,u2]).T"
      ],
      "execution_count": 10,
      "outputs": []
    },
    {
      "cell_type": "code",
      "metadata": {
        "colab": {
          "base_uri": "https://localhost:8080/"
        },
        "id": "MIciEpdqSFzb",
        "outputId": "a4818cee-0f5b-476d-b89f-c7cb311081fc"
      },
      "source": [
        "U.T@A@V"
      ],
      "execution_count": 11,
      "outputs": [
        {
          "output_type": "execute_result",
          "data": {
            "text/plain": [
              "array([[ 5.00000000e+00,  4.61927558e-17, -5.80878766e-17],\n",
              "       [-3.24483433e-16,  6.24499800e+00,  1.06687423e-16],\n",
              "       [-2.24630037e-16, -1.28454465e-17,  6.24499800e+00]])"
            ]
          },
          "metadata": {},
          "execution_count": 11
        }
      ]
    },
    {
      "cell_type": "code",
      "metadata": {
        "colab": {
          "base_uri": "https://localhost:8080/"
        },
        "id": "dEool4v_SF2k",
        "outputId": "6a331d25-0f8a-4c29-a1e2-511127bf7430"
      },
      "source": [
        "#pembulatan\n",
        "np.round(U.T@A@V, decimals=5)"
      ],
      "execution_count": 12,
      "outputs": [
        {
          "output_type": "execute_result",
          "data": {
            "text/plain": [
              "array([[ 5.   ,  0.   , -0.   ],\n",
              "       [-0.   ,  6.245,  0.   ],\n",
              "       [-0.   , -0.   ,  6.245]])"
            ]
          },
          "metadata": {},
          "execution_count": 12
        }
      ]
    },
    {
      "cell_type": "code",
      "metadata": {
        "id": "R6kUpUWaSF54"
      },
      "source": [
        ""
      ],
      "execution_count": null,
      "outputs": []
    },
    {
      "cell_type": "code",
      "metadata": {
        "id": "vSLomGrZSF9L"
      },
      "source": [
        ""
      ],
      "execution_count": null,
      "outputs": []
    }
  ]
}